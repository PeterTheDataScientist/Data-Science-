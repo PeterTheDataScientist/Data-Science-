{
 "cells": [
  {
   "cell_type": "markdown",
   "id": "1c7d9f02",
   "metadata": {},
   "source": [
    "# Data Analysis on Top Youtubers"
   ]
  },
  {
   "cell_type": "code",
   "execution_count": 134,
   "id": "6649649e",
   "metadata": {},
   "outputs": [],
   "source": [
    "import pandas as pd\n",
    "import numpy as np\n",
    "import seaborn as sns\n",
    "import matplotlib.pyplot as plt\n",
    "from sklearn.preprocessing import StandardScaler\n",
    "from sklearn.cluster import KMeans"
   ]
  },
  {
   "cell_type": "code",
   "execution_count": 98,
   "id": "b5e521db",
   "metadata": {},
   "outputs": [
    {
     "data": {
      "text/html": [
       "<div>\n",
       "<style scoped>\n",
       "    .dataframe tbody tr th:only-of-type {\n",
       "        vertical-align: middle;\n",
       "    }\n",
       "\n",
       "    .dataframe tbody tr th {\n",
       "        vertical-align: top;\n",
       "    }\n",
       "\n",
       "    .dataframe thead th {\n",
       "        text-align: right;\n",
       "    }\n",
       "</style>\n",
       "<table border=\"1\" class=\"dataframe\">\n",
       "  <thead>\n",
       "    <tr style=\"text-align: right;\">\n",
       "      <th></th>\n",
       "      <th>Rank</th>\n",
       "      <th>Username</th>\n",
       "      <th>Categories</th>\n",
       "      <th>Suscribers</th>\n",
       "      <th>Country</th>\n",
       "      <th>Visits</th>\n",
       "      <th>Likes</th>\n",
       "      <th>Comments</th>\n",
       "      <th>Links</th>\n",
       "    </tr>\n",
       "  </thead>\n",
       "  <tbody>\n",
       "    <tr>\n",
       "      <th>0</th>\n",
       "      <td>1</td>\n",
       "      <td>tseries</td>\n",
       "      <td>Música y baile</td>\n",
       "      <td>249500000.0</td>\n",
       "      <td>India</td>\n",
       "      <td>86200.0</td>\n",
       "      <td>2700.0</td>\n",
       "      <td>78.0</td>\n",
       "      <td>http://youtube.com/channel/UCq-Fj5jknLsUf-MWSy...</td>\n",
       "    </tr>\n",
       "    <tr>\n",
       "      <th>1</th>\n",
       "      <td>2</td>\n",
       "      <td>MrBeast</td>\n",
       "      <td>Videojuegos, Humor</td>\n",
       "      <td>183500000.0</td>\n",
       "      <td>Estados Unidos</td>\n",
       "      <td>117400000.0</td>\n",
       "      <td>5300000.0</td>\n",
       "      <td>18500.0</td>\n",
       "      <td>http://youtube.com/channel/UCX6OQ3DkcsbYNE6H8u...</td>\n",
       "    </tr>\n",
       "    <tr>\n",
       "      <th>2</th>\n",
       "      <td>3</td>\n",
       "      <td>CoComelon</td>\n",
       "      <td>Educación</td>\n",
       "      <td>165500000.0</td>\n",
       "      <td>Unknown</td>\n",
       "      <td>7000000.0</td>\n",
       "      <td>24700.0</td>\n",
       "      <td>0.0</td>\n",
       "      <td>http://youtube.com/channel/UCbCmjCuTUZos6Inko4...</td>\n",
       "    </tr>\n",
       "    <tr>\n",
       "      <th>3</th>\n",
       "      <td>4</td>\n",
       "      <td>SETIndia</td>\n",
       "      <td>NaN</td>\n",
       "      <td>162600000.0</td>\n",
       "      <td>India</td>\n",
       "      <td>15600.0</td>\n",
       "      <td>166.0</td>\n",
       "      <td>9.0</td>\n",
       "      <td>http://youtube.com/channel/UCpEhnqL0y41EpW2TvW...</td>\n",
       "    </tr>\n",
       "    <tr>\n",
       "      <th>4</th>\n",
       "      <td>5</td>\n",
       "      <td>KidsDianaShow</td>\n",
       "      <td>Animación, Juguetes</td>\n",
       "      <td>113500000.0</td>\n",
       "      <td>Unknown</td>\n",
       "      <td>3900000.0</td>\n",
       "      <td>12400.0</td>\n",
       "      <td>0.0</td>\n",
       "      <td>http://youtube.com/channel/UCk8GzjMOrta8yxDcKf...</td>\n",
       "    </tr>\n",
       "    <tr>\n",
       "      <th>...</th>\n",
       "      <td>...</td>\n",
       "      <td>...</td>\n",
       "      <td>...</td>\n",
       "      <td>...</td>\n",
       "      <td>...</td>\n",
       "      <td>...</td>\n",
       "      <td>...</td>\n",
       "      <td>...</td>\n",
       "      <td>...</td>\n",
       "    </tr>\n",
       "    <tr>\n",
       "      <th>995</th>\n",
       "      <td>996</td>\n",
       "      <td>hamzymukbang</td>\n",
       "      <td>NaN</td>\n",
       "      <td>11700000.0</td>\n",
       "      <td>Estados Unidos</td>\n",
       "      <td>397400.0</td>\n",
       "      <td>14000.0</td>\n",
       "      <td>124.0</td>\n",
       "      <td>http://youtube.com/channel/UCPKNKldggioffXPkSm...</td>\n",
       "    </tr>\n",
       "    <tr>\n",
       "      <th>996</th>\n",
       "      <td>997</td>\n",
       "      <td>Adaahqueen</td>\n",
       "      <td>NaN</td>\n",
       "      <td>11700000.0</td>\n",
       "      <td>India</td>\n",
       "      <td>1100000.0</td>\n",
       "      <td>92500.0</td>\n",
       "      <td>164.0</td>\n",
       "      <td>http://youtube.com/channel/UCk3fFpqI5kDMf__mUP...</td>\n",
       "    </tr>\n",
       "    <tr>\n",
       "      <th>997</th>\n",
       "      <td>998</td>\n",
       "      <td>LittleAngelIndonesia</td>\n",
       "      <td>Música y baile</td>\n",
       "      <td>11700000.0</td>\n",
       "      <td>Unknown</td>\n",
       "      <td>211400.0</td>\n",
       "      <td>745.0</td>\n",
       "      <td>0.0</td>\n",
       "      <td>http://youtube.com/channel/UCdrHrQf0o0TO8YDntX...</td>\n",
       "    </tr>\n",
       "    <tr>\n",
       "      <th>998</th>\n",
       "      <td>999</td>\n",
       "      <td>PenMultiplex</td>\n",
       "      <td>NaN</td>\n",
       "      <td>11700000.0</td>\n",
       "      <td>India</td>\n",
       "      <td>14000.0</td>\n",
       "      <td>81.0</td>\n",
       "      <td>1.0</td>\n",
       "      <td>http://youtube.com/channel/UCObyBrdrtQ20BU9PxH...</td>\n",
       "    </tr>\n",
       "    <tr>\n",
       "      <th>999</th>\n",
       "      <td>1000</td>\n",
       "      <td>OneindiaHindi</td>\n",
       "      <td>Noticias y Política</td>\n",
       "      <td>11700000.0</td>\n",
       "      <td>India</td>\n",
       "      <td>2200.0</td>\n",
       "      <td>31.0</td>\n",
       "      <td>1.0</td>\n",
       "      <td>http://youtube.com/channel/UCOjgc1p2hJ4GZi6pQQ...</td>\n",
       "    </tr>\n",
       "  </tbody>\n",
       "</table>\n",
       "<p>1000 rows × 9 columns</p>\n",
       "</div>"
      ],
      "text/plain": [
       "     Rank              Username           Categories   Suscribers  \\\n",
       "0       1               tseries       Música y baile  249500000.0   \n",
       "1       2               MrBeast   Videojuegos, Humor  183500000.0   \n",
       "2       3             CoComelon            Educación  165500000.0   \n",
       "3       4              SETIndia                  NaN  162600000.0   \n",
       "4       5         KidsDianaShow  Animación, Juguetes  113500000.0   \n",
       "..    ...                   ...                  ...          ...   \n",
       "995   996          hamzymukbang                  NaN   11700000.0   \n",
       "996   997            Adaahqueen                  NaN   11700000.0   \n",
       "997   998  LittleAngelIndonesia       Música y baile   11700000.0   \n",
       "998   999          PenMultiplex                  NaN   11700000.0   \n",
       "999  1000         OneindiaHindi  Noticias y Política   11700000.0   \n",
       "\n",
       "            Country       Visits      Likes  Comments  \\\n",
       "0             India      86200.0     2700.0      78.0   \n",
       "1    Estados Unidos  117400000.0  5300000.0   18500.0   \n",
       "2           Unknown    7000000.0    24700.0       0.0   \n",
       "3             India      15600.0      166.0       9.0   \n",
       "4           Unknown    3900000.0    12400.0       0.0   \n",
       "..              ...          ...        ...       ...   \n",
       "995  Estados Unidos     397400.0    14000.0     124.0   \n",
       "996           India    1100000.0    92500.0     164.0   \n",
       "997         Unknown     211400.0      745.0       0.0   \n",
       "998           India      14000.0       81.0       1.0   \n",
       "999           India       2200.0       31.0       1.0   \n",
       "\n",
       "                                                 Links  \n",
       "0    http://youtube.com/channel/UCq-Fj5jknLsUf-MWSy...  \n",
       "1    http://youtube.com/channel/UCX6OQ3DkcsbYNE6H8u...  \n",
       "2    http://youtube.com/channel/UCbCmjCuTUZos6Inko4...  \n",
       "3    http://youtube.com/channel/UCpEhnqL0y41EpW2TvW...  \n",
       "4    http://youtube.com/channel/UCk8GzjMOrta8yxDcKf...  \n",
       "..                                                 ...  \n",
       "995  http://youtube.com/channel/UCPKNKldggioffXPkSm...  \n",
       "996  http://youtube.com/channel/UCk3fFpqI5kDMf__mUP...  \n",
       "997  http://youtube.com/channel/UCdrHrQf0o0TO8YDntX...  \n",
       "998  http://youtube.com/channel/UCObyBrdrtQ20BU9PxH...  \n",
       "999  http://youtube.com/channel/UCOjgc1p2hJ4GZi6pQQ...  \n",
       "\n",
       "[1000 rows x 9 columns]"
      ]
     },
     "execution_count": 98,
     "metadata": {},
     "output_type": "execute_result"
    }
   ],
   "source": [
    "#Reading the youtube dataset\n",
    "yutube=pd.read_csv(\"C:\\\\Users\\\\user\\\\OneDrive\\\\Desktop\\\\Carrers Intern\\\\youtubers_df.csv\")\n",
    "yutube"
   ]
  },
  {
   "cell_type": "markdown",
   "id": "d8c84fca",
   "metadata": {},
   "source": [
    "# Data Cleaning and Exploration"
   ]
  },
  {
   "cell_type": "code",
   "execution_count": 129,
   "id": "f0cb80ec",
   "metadata": {},
   "outputs": [
    {
     "data": {
      "text/html": [
       "<div>\n",
       "<style scoped>\n",
       "    .dataframe tbody tr th:only-of-type {\n",
       "        vertical-align: middle;\n",
       "    }\n",
       "\n",
       "    .dataframe tbody tr th {\n",
       "        vertical-align: top;\n",
       "    }\n",
       "\n",
       "    .dataframe thead th {\n",
       "        text-align: right;\n",
       "    }\n",
       "</style>\n",
       "<table border=\"1\" class=\"dataframe\">\n",
       "  <thead>\n",
       "    <tr style=\"text-align: right;\">\n",
       "      <th></th>\n",
       "      <th>Rank</th>\n",
       "      <th>Username</th>\n",
       "      <th>Categories</th>\n",
       "      <th>Subscribers</th>\n",
       "      <th>Country</th>\n",
       "      <th>Visits</th>\n",
       "      <th>Likes</th>\n",
       "      <th>Comments</th>\n",
       "      <th>Links</th>\n",
       "    </tr>\n",
       "  </thead>\n",
       "  <tbody>\n",
       "    <tr>\n",
       "      <th>0</th>\n",
       "      <td>1</td>\n",
       "      <td>tseries</td>\n",
       "      <td>Música y baile</td>\n",
       "      <td>249500000</td>\n",
       "      <td>India</td>\n",
       "      <td>86200.0</td>\n",
       "      <td>2700.0</td>\n",
       "      <td>78.0</td>\n",
       "      <td>http://youtube.com/channel/UCq-Fj5jknLsUf-MWSy...</td>\n",
       "    </tr>\n",
       "    <tr>\n",
       "      <th>1</th>\n",
       "      <td>2</td>\n",
       "      <td>MrBeast</td>\n",
       "      <td>Videojuegos, Humor</td>\n",
       "      <td>183500000</td>\n",
       "      <td>Estados Unidos</td>\n",
       "      <td>117400000.0</td>\n",
       "      <td>5300000.0</td>\n",
       "      <td>18500.0</td>\n",
       "      <td>http://youtube.com/channel/UCX6OQ3DkcsbYNE6H8u...</td>\n",
       "    </tr>\n",
       "    <tr>\n",
       "      <th>2</th>\n",
       "      <td>3</td>\n",
       "      <td>CoComelon</td>\n",
       "      <td>Educación</td>\n",
       "      <td>165500000</td>\n",
       "      <td>Unknown</td>\n",
       "      <td>7000000.0</td>\n",
       "      <td>24700.0</td>\n",
       "      <td>0.0</td>\n",
       "      <td>http://youtube.com/channel/UCbCmjCuTUZos6Inko4...</td>\n",
       "    </tr>\n",
       "    <tr>\n",
       "      <th>3</th>\n",
       "      <td>4</td>\n",
       "      <td>SETIndia</td>\n",
       "      <td>Unknown</td>\n",
       "      <td>162600000</td>\n",
       "      <td>India</td>\n",
       "      <td>15600.0</td>\n",
       "      <td>166.0</td>\n",
       "      <td>9.0</td>\n",
       "      <td>http://youtube.com/channel/UCpEhnqL0y41EpW2TvW...</td>\n",
       "    </tr>\n",
       "    <tr>\n",
       "      <th>4</th>\n",
       "      <td>5</td>\n",
       "      <td>KidsDianaShow</td>\n",
       "      <td>Animación, Juguetes</td>\n",
       "      <td>113500000</td>\n",
       "      <td>Unknown</td>\n",
       "      <td>3900000.0</td>\n",
       "      <td>12400.0</td>\n",
       "      <td>0.0</td>\n",
       "      <td>http://youtube.com/channel/UCk8GzjMOrta8yxDcKf...</td>\n",
       "    </tr>\n",
       "  </tbody>\n",
       "</table>\n",
       "</div>"
      ],
      "text/plain": [
       "   Rank       Username           Categories  Subscribers         Country  \\\n",
       "0     1        tseries       Música y baile    249500000           India   \n",
       "1     2        MrBeast   Videojuegos, Humor    183500000  Estados Unidos   \n",
       "2     3      CoComelon            Educación    165500000         Unknown   \n",
       "3     4       SETIndia              Unknown    162600000           India   \n",
       "4     5  KidsDianaShow  Animación, Juguetes    113500000         Unknown   \n",
       "\n",
       "        Visits      Likes  Comments  \\\n",
       "0      86200.0     2700.0      78.0   \n",
       "1  117400000.0  5300000.0   18500.0   \n",
       "2    7000000.0    24700.0       0.0   \n",
       "3      15600.0      166.0       9.0   \n",
       "4    3900000.0    12400.0       0.0   \n",
       "\n",
       "                                               Links  \n",
       "0  http://youtube.com/channel/UCq-Fj5jknLsUf-MWSy...  \n",
       "1  http://youtube.com/channel/UCX6OQ3DkcsbYNE6H8u...  \n",
       "2  http://youtube.com/channel/UCbCmjCuTUZos6Inko4...  \n",
       "3  http://youtube.com/channel/UCpEhnqL0y41EpW2TvW...  \n",
       "4  http://youtube.com/channel/UCk8GzjMOrta8yxDcKf...  "
      ]
     },
     "execution_count": 129,
     "metadata": {},
     "output_type": "execute_result"
    }
   ],
   "source": [
    "yutube.head()"
   ]
  },
  {
   "cell_type": "code",
   "execution_count": 135,
   "id": "a7d4282d",
   "metadata": {},
   "outputs": [
    {
     "data": {
      "text/plain": [
       "(1000, 9)"
      ]
     },
     "execution_count": 135,
     "metadata": {},
     "output_type": "execute_result"
    }
   ],
   "source": [
    "yutube.shape"
   ]
  },
  {
   "cell_type": "code",
   "execution_count": 136,
   "id": "d11989dc",
   "metadata": {},
   "outputs": [
    {
     "name": "stdout",
     "output_type": "stream",
     "text": [
      "<class 'pandas.core.frame.DataFrame'>\n",
      "RangeIndex: 1000 entries, 0 to 999\n",
      "Data columns (total 9 columns):\n",
      " #   Column       Non-Null Count  Dtype  \n",
      "---  ------       --------------  -----  \n",
      " 0   Rank         1000 non-null   int64  \n",
      " 1   Username     1000 non-null   object \n",
      " 2   Categories   1000 non-null   object \n",
      " 3   Subscribers  1000 non-null   int32  \n",
      " 4   Country      1000 non-null   object \n",
      " 5   Visits       1000 non-null   float64\n",
      " 6   Likes        1000 non-null   float64\n",
      " 7   Comments     1000 non-null   float64\n",
      " 8   Links        1000 non-null   object \n",
      "dtypes: float64(3), int32(1), int64(1), object(4)\n",
      "memory usage: 66.5+ KB\n"
     ]
    }
   ],
   "source": [
    "yutube.info()"
   ]
  },
  {
   "cell_type": "code",
   "execution_count": 132,
   "id": "d23a7f5b",
   "metadata": {},
   "outputs": [
    {
     "data": {
      "text/plain": [
       "Index(['Rank', 'Username', 'Categories', 'Subscribers', 'Country', 'Visits',\n",
       "       'Likes', 'Comments', 'Links'],\n",
       "      dtype='object')"
      ]
     },
     "execution_count": 132,
     "metadata": {},
     "output_type": "execute_result"
    }
   ],
   "source": [
    "#Names of columns\n",
    "yutube.columns"
   ]
  },
  {
   "cell_type": "code",
   "execution_count": 137,
   "id": "594e0615",
   "metadata": {},
   "outputs": [],
   "source": [
    "#Renaming 'Suscribers' column to 'Subcribers'\n",
    "yutube.rename(columns={'Suscribers':'Subscribers'}, inplace=True)"
   ]
  },
  {
   "cell_type": "code",
   "execution_count": 138,
   "id": "19e0606f",
   "metadata": {},
   "outputs": [
    {
     "data": {
      "text/plain": [
       "Index(['Rank', 'Username', 'Categories', 'Subscribers', 'Country', 'Visits',\n",
       "       'Likes', 'Comments', 'Links'],\n",
       "      dtype='object')"
      ]
     },
     "execution_count": 138,
     "metadata": {},
     "output_type": "execute_result"
    }
   ],
   "source": [
    "#Checking whether the column name 'Suscriber' have successfully renamed\n",
    "yutube.columns"
   ]
  },
  {
   "cell_type": "code",
   "execution_count": 139,
   "id": "1d4c8cc4",
   "metadata": {},
   "outputs": [],
   "source": [
    "#Changing the data type of 'Subscribers' column from float to int\n",
    "yutube['Subscribers']=yutube['Subscribers'].astype(int)"
   ]
  },
  {
   "cell_type": "code",
   "execution_count": 141,
   "id": "ae089de5",
   "metadata": {},
   "outputs": [
    {
     "data": {
      "text/plain": [
       "Rank             int64\n",
       "Username        object\n",
       "Categories      object\n",
       "Subscribers      int32\n",
       "Country         object\n",
       "Visits         float64\n",
       "Likes          float64\n",
       "Comments       float64\n",
       "Links           object\n",
       "dtype: object"
      ]
     },
     "execution_count": 141,
     "metadata": {},
     "output_type": "execute_result"
    }
   ],
   "source": [
    "#Checking if 'Subscribers' data type have successfully changed\n",
    "yutube.dtypes"
   ]
  },
  {
   "cell_type": "code",
   "execution_count": 106,
   "id": "78a16af6",
   "metadata": {},
   "outputs": [
    {
     "data": {
      "text/plain": [
       "Rank             0\n",
       "Username         0\n",
       "Categories     306\n",
       "Subscribers      0\n",
       "Country          0\n",
       "Visits           0\n",
       "Likes            0\n",
       "Comments         0\n",
       "Links            0\n",
       "dtype: int64"
      ]
     },
     "execution_count": 106,
     "metadata": {},
     "output_type": "execute_result"
    }
   ],
   "source": [
    "#Checking for missing values\n",
    "yutube.isnull().sum()"
   ]
  },
  {
   "cell_type": "code",
   "execution_count": 107,
   "id": "69d34ce9",
   "metadata": {},
   "outputs": [],
   "source": [
    "#Replacing missing 'Categories' with 'Unknown'\n",
    "yutube.fillna('Unknown', inplace=True)"
   ]
  },
  {
   "cell_type": "code",
   "execution_count": 108,
   "id": "3af2b9e8",
   "metadata": {},
   "outputs": [
    {
     "data": {
      "text/plain": [
       "Rank           0\n",
       "Username       0\n",
       "Categories     0\n",
       "Subscribers    0\n",
       "Country        0\n",
       "Visits         0\n",
       "Likes          0\n",
       "Comments       0\n",
       "Links          0\n",
       "dtype: int64"
      ]
     },
     "execution_count": 108,
     "metadata": {},
     "output_type": "execute_result"
    }
   ],
   "source": [
    "#Checking if missing values have been successfully replaced\n",
    "yutube.isnull().sum()"
   ]
  },
  {
   "cell_type": "code",
   "execution_count": 111,
   "id": "cd2494aa",
   "metadata": {},
   "outputs": [
    {
     "data": {
      "text/plain": [
       "array(['Música y baile', 'Videojuegos, Humor', 'Educación', 'Unknown',\n",
       "       'Animación, Juguetes', 'Películas, Videojuegos', 'Juguetes',\n",
       "       'Videojuegos', 'Películas, Animación', 'Películas',\n",
       "       'Noticias y Política', 'Animación, Humor',\n",
       "       'Música y baile, Animación', 'Música y baile, Películas',\n",
       "       'Películas, Juguetes', 'Películas, Humor', 'Vlogs diarios',\n",
       "       'Videojuegos, Juguetes', 'Animación, Videojuegos', 'Animación',\n",
       "       'Música y baile, Humor', 'Diseño/arte, DIY y Life Hacks',\n",
       "       'Ciencia y tecnología', 'Fitness, Salud y autoayuda',\n",
       "       'Belleza, Moda', 'Humor', 'Comida y bebida', 'Deportes', 'Fitness',\n",
       "       'Viajes, Espectáculos', 'Comida y bebida, Salud y autoayuda',\n",
       "       'Diseño/arte', 'DIY y Life Hacks, Juguetes', 'Educación, Juguetes',\n",
       "       'Juguetes, Coches y vehículos', 'Música y baile, Juguetes',\n",
       "       'Animales y mascotas', 'ASMR', 'Moda', 'DIY y Life Hacks',\n",
       "       'Diseño/arte, Belleza', 'Coches y vehículos',\n",
       "       'Animación, Humor, Juguetes', 'ASMR, Comida y bebida',\n",
       "       'Comida y bebida, Juguetes', 'Juguetes, DIY y Life Hacks'],\n",
       "      dtype=object)"
      ]
     },
     "execution_count": 111,
     "metadata": {},
     "output_type": "execute_result"
    }
   ],
   "source": [
    "# Checking the different Categories we have \n",
    "yutube['Categories'].unique()"
   ]
  },
  {
   "cell_type": "markdown",
   "id": "ca3f6cf9",
   "metadata": {},
   "source": [
    "# Checking for outliers on 'Subscribers'"
   ]
  },
  {
   "cell_type": "code",
   "execution_count": 208,
   "id": "2116694c",
   "metadata": {},
   "outputs": [
    {
     "data": {
      "image/png": "[encoded data removed]",
      "text/plain": [
       "<Figure size 432x288 with 1 Axes>"
      ]
     },
     "metadata": {
      "needs_background": "light"
     },
     "output_type": "display_data"
    }
   ],
   "source": [
    "sns.boxplot(x=yutube['Subscribers'])\n",
    "plt.show()"
   ]
  },
  {
   "cell_type": "markdown",
   "id": "b0fd252e",
   "metadata": {},
   "source": [
    "# Removing Outliers on 'Subscribers'"
   ]
  },
  {
   "cell_type": "code",
   "execution_count": 160,
   "id": "ec78ce2c",
   "metadata": {},
   "outputs": [],
   "source": [
    "#Removing for subscribers\n",
    "col1 = 'Subscribers'\n",
    "# Calculate the interquartile range (IQR)\n",
    "Q1_s = yutube[col1].quantile(0.25)\n",
    "Q3_s = yutube[col1].quantile(0.75)\n",
    "IQR_s = Q3 - Q1"
   ]
  },
  {
   "cell_type": "code",
   "execution_count": 161,
   "id": "0eee04db",
   "metadata": {},
   "outputs": [
    {
     "data": {
      "text/plain": [
       "28178.25"
      ]
     },
     "execution_count": 161,
     "metadata": {},
     "output_type": "execute_result"
    }
   ],
   "source": [
    "IQR_s"
   ]
  },
  {
   "cell_type": "code",
   "execution_count": 178,
   "id": "5ff0ab9f",
   "metadata": {},
   "outputs": [],
   "source": [
    "# Defining the lower and upper bounds for outliers\n",
    "lower_bound_s = Q1_s - 1.5 * IQR_s\n",
    "upper_bound_s = Q3_s + 1.5 * IQR_s"
   ]
  },
  {
   "cell_type": "code",
   "execution_count": 179,
   "id": "c778bfba",
   "metadata": {},
   "outputs": [],
   "source": [
    "# Filtering the dataframe to remove outliers\n",
    "yutube_no_outliers_s = yutube[(yutube[col1] >= lower_bound_s) & (yutube[col1] <= upper_bound_s)]"
   ]
  },
  {
   "cell_type": "code",
   "execution_count": 207,
   "id": "e2534c28",
   "metadata": {},
   "outputs": [
    {
     "data": {
      "image/png": "[encoded data removed]",
      "text/plain": [
       "<Figure size 432x288 with 1 Axes>"
      ]
     },
     "metadata": {
      "needs_background": "light"
     },
     "output_type": "display_data"
    }
   ],
   "source": [
    "# Plotting the boxplot without outliers\n",
    "sns.boxplot(x=yutube_no_outliers_s[col1])\n",
    "plt.show()"
   ]
  },
  {
   "cell_type": "markdown",
   "id": "464c3ad8",
   "metadata": {},
   "source": [
    "# Checking for outliers on 'Visits' column"
   ]
  },
  {
   "cell_type": "code",
   "execution_count": 206,
   "id": "63bc93d2",
   "metadata": {},
   "outputs": [
    {
     "data": {
      "image/png": "[encoded data removed]",
      "text/plain": [
       "<Figure size 432x288 with 1 Axes>"
      ]
     },
     "metadata": {
      "needs_background": "light"
     },
     "output_type": "display_data"
    }
   ],
   "source": [
    "sns.boxplot(x=yutube['Visits'])\n",
    "plt.show()"
   ]
  },
  {
   "cell_type": "markdown",
   "id": "8ed85de2",
   "metadata": {},
   "source": [
    "# Removing outliers on 'Visits'"
   ]
  },
  {
   "cell_type": "code",
   "execution_count": 174,
   "id": "d1638d52",
   "metadata": {},
   "outputs": [],
   "source": [
    "#Removing for Visits\n",
    "col2 = 'Visits'\n",
    "# Calculate the interquartile range (IQR)\n",
    "Q1_v = yutube[col2].quantile(0.25)\n",
    "Q3_v = yutube[col2].quantile(0.75)\n",
    "IQR_v = Q3_v - Q1_v"
   ]
  },
  {
   "cell_type": "code",
   "execution_count": 175,
   "id": "08f2394a",
   "metadata": {},
   "outputs": [
    {
     "data": {
      "text/plain": [
       "833500.0"
      ]
     },
     "execution_count": 175,
     "metadata": {},
     "output_type": "execute_result"
    }
   ],
   "source": [
    "IQR_v"
   ]
  },
  {
   "cell_type": "code",
   "execution_count": 182,
   "id": "ec270c98",
   "metadata": {},
   "outputs": [],
   "source": [
    "# Define the lower and upper bounds for outliers\n",
    "lower_bound_v = Q1_v - 1.5 * IQR_v\n",
    "upper_bound_v = Q3_v + 1.5 * IQR_v"
   ]
  },
  {
   "cell_type": "code",
   "execution_count": 183,
   "id": "00f003b3",
   "metadata": {},
   "outputs": [],
   "source": [
    "# Filter the dataframe to remove outliers\n",
    "yutube_no_outliers_v = yutube[(yutube[col2] >= lower_bound_v) & (yutube[col2] <= upper_bound_v)]"
   ]
  },
  {
   "cell_type": "code",
   "execution_count": 205,
   "id": "7faf8387",
   "metadata": {},
   "outputs": [
    {
     "data": {
      "image/png": "[encoded data removed]",
      "text/plain": [
       "<Figure size 432x288 with 1 Axes>"
      ]
     },
     "metadata": {
      "needs_background": "light"
     },
     "output_type": "display_data"
    }
   ],
   "source": [
    "# Plot the boxplot without outliers\n",
    "sns.boxplot(x=yutube_no_outliers_v[col2])\n",
    "plt.show()"
   ]
  },
  {
   "cell_type": "markdown",
   "id": "08c8beef",
   "metadata": {},
   "source": [
    "# Checking for outliers on 'Likes' Column"
   ]
  },
  {
   "cell_type": "code",
   "execution_count": 204,
   "id": "9f7d4f2a",
   "metadata": {},
   "outputs": [
    {
     "data": {
      "image/png": "[encoded data removed]",
      "text/plain": [
       "<Figure size 432x288 with 1 Axes>"
      ]
     },
     "metadata": {
      "needs_background": "light"
     },
     "output_type": "display_data"
    }
   ],
   "source": [
    "sns.boxplot(x=yutube['Likes'])\n",
    "plt.show()"
   ]
  },
  {
   "cell_type": "markdown",
   "id": "83a52e49",
   "metadata": {},
   "source": [
    "# Removing outliers on 'Likes'"
   ]
  },
  {
   "cell_type": "code",
   "execution_count": 188,
   "id": "83f59d7e",
   "metadata": {},
   "outputs": [],
   "source": [
    "#Removing for Likes\n",
    "col3 = 'Likes'\n",
    "# Calculate the interquartile range (IQR)\n",
    "Q1_l = yutube[col3].quantile(0.25)\n",
    "Q3_l = yutube[col3].quantile(0.75)\n",
    "IQR_l = Q3_l - Q1_l"
   ]
  },
  {
   "cell_type": "code",
   "execution_count": 189,
   "id": "ab71b40a",
   "metadata": {},
   "outputs": [
    {
     "data": {
      "text/plain": [
       "28178.25"
      ]
     },
     "execution_count": 189,
     "metadata": {},
     "output_type": "execute_result"
    }
   ],
   "source": [
    "IQR_l"
   ]
  },
  {
   "cell_type": "code",
   "execution_count": 190,
   "id": "d9b29876",
   "metadata": {},
   "outputs": [],
   "source": [
    "# Define the lower and upper bounds for outliers\n",
    "lower_bound_l = Q1_l - 1.5 * IQR_l\n",
    "upper_bound_l = Q3_l + 1.5 * IQR_l"
   ]
  },
  {
   "cell_type": "code",
   "execution_count": 191,
   "id": "e1ea774b",
   "metadata": {},
   "outputs": [],
   "source": [
    "# Filter the dataframe to remove outliers\n",
    "yutube_no_outliers_l = yutube[(yutube[col3] >= lower_bound_l) & (yutube[col3] <= upper_bound_l)]"
   ]
  },
  {
   "cell_type": "code",
   "execution_count": 203,
   "id": "1d88eba3",
   "metadata": {},
   "outputs": [
    {
     "data": {
      "image/png": "[encoded data removed]",
      "text/plain": [
       "<Figure size 432x288 with 1 Axes>"
      ]
     },
     "metadata": {
      "needs_background": "light"
     },
     "output_type": "display_data"
    }
   ],
   "source": [
    "# Plot the boxplot without outliers\n",
    "sns.boxplot(x=yutube_no_outliers_l[col3])\n",
    "plt.show()"
   ]
  },
  {
   "cell_type": "markdown",
   "id": "e1fbce19",
   "metadata": {},
   "source": [
    "# Checking for outliers on 'Comments' column"
   ]
  },
  {
   "cell_type": "code",
   "execution_count": 202,
   "id": "0fbfb0af",
   "metadata": {},
   "outputs": [
    {
     "data": {
      "image/png": "[encoded data removed]",
      "text/plain": [
       "<Figure size 432x288 with 1 Axes>"
      ]
     },
     "metadata": {
      "needs_background": "light"
     },
     "output_type": "display_data"
    }
   ],
   "source": [
    "sns.boxplot(x=yutube['Comments'])\n",
    "plt.show()"
   ]
  },
  {
   "cell_type": "markdown",
   "id": "5939259a",
   "metadata": {},
   "source": [
    "# Removing outliers on 'Comments' column"
   ]
  },
  {
   "cell_type": "code",
   "execution_count": 196,
   "id": "18839112",
   "metadata": {},
   "outputs": [],
   "source": [
    "#Removing for Visits\n",
    "col4 = 'Comments'\n",
    "# Calculate the interquartile range (IQR)\n",
    "Q1_c = yutube[col4].quantile(0.25)\n",
    "Q3_c = yutube[col4].quantile(0.75)\n",
    "IQR_c = Q3_c - Q1_c"
   ]
  },
  {
   "cell_type": "code",
   "execution_count": 197,
   "id": "d4650e7d",
   "metadata": {},
   "outputs": [
    {
     "data": {
      "text/plain": [
       "470.0"
      ]
     },
     "execution_count": 197,
     "metadata": {},
     "output_type": "execute_result"
    }
   ],
   "source": [
    "IQR_c"
   ]
  },
  {
   "cell_type": "code",
   "execution_count": 198,
   "id": "e46b34ae",
   "metadata": {},
   "outputs": [],
   "source": [
    "# Define the lower and upper bounds for outliers\n",
    "lower_bound_c = Q1_c - 1.5 * IQR_c\n",
    "upper_bound_c = Q3_c + 1.5 * IQR_c"
   ]
  },
  {
   "cell_type": "code",
   "execution_count": 199,
   "id": "5d9e86b9",
   "metadata": {},
   "outputs": [],
   "source": [
    "# Filter the dataframe to remove outliers\n",
    "yutube_no_outliers_c = yutube[(yutube[col4] >= lower_bound_c) & (yutube[col4] <= upper_bound_c)]"
   ]
  },
  {
   "cell_type": "code",
   "execution_count": 201,
   "id": "03067a00",
   "metadata": {},
   "outputs": [
    {
     "data": {
      "image/png": "[encoded data removed]",
      "text/plain": [
       "<Figure size 432x288 with 1 Axes>"
      ]
     },
     "metadata": {
      "needs_background": "light"
     },
     "output_type": "display_data"
    }
   ],
   "source": [
    "# Plot the boxplot without outliers\n",
    "sns.boxplot(x=yutube_no_outliers_c[col4])\n",
    "plt.show()"
   ]
  },
  {
   "cell_type": "markdown",
   "id": "b38d11c5",
   "metadata": {},
   "source": [
    "# Shape of the Dataframe before and after removig outliers"
   ]
  },
  {
   "cell_type": "code",
   "execution_count": 222,
   "id": "268d28cf",
   "metadata": {},
   "outputs": [
    {
     "data": {
      "text/plain": [
       "(1000, 10)"
      ]
     },
     "execution_count": 222,
     "metadata": {},
     "output_type": "execute_result"
    }
   ],
   "source": [
    "#Before removing outliers\n",
    "yutube.shape"
   ]
  },
  {
   "cell_type": "code",
   "execution_count": 223,
   "id": "19d0fc44",
   "metadata": {},
   "outputs": [
    {
     "data": {
      "text/plain": [
       "(921, 9)"
      ]
     },
     "execution_count": 223,
     "metadata": {},
     "output_type": "execute_result"
    }
   ],
   "source": [
    "#Before removing outliers\n",
    "yutube_no_outliers.shape"
   ]
  },
  {
   "cell_type": "markdown",
   "id": "64e00644",
   "metadata": {},
   "source": [
    "# Performance Metrics"
   ]
  },
  {
   "cell_type": "code",
   "execution_count": 209,
   "id": "a3fe4015",
   "metadata": {},
   "outputs": [
    {
     "data": {
      "image/png": "[encoded data removed]",
      "text/plain": [
       "<Figure size 432x288 with 1 Axes>"
      ]
     },
     "metadata": {
      "needs_background": "light"
     },
     "output_type": "display_data"
    }
   ],
   "source": [
    "average_metrics = yutube[['Subscribers', 'Visits', 'Likes', 'Comments']].mean()\n",
    "average_metrics.plot(kind='bar')\n",
    "plt.show()"
   ]
  },
  {
   "cell_type": "markdown",
   "id": "1f199078",
   "metadata": {},
   "source": [
    "# Content Categories"
   ]
  },
  {
   "cell_type": "code",
   "execution_count": 211,
   "id": "26cc79dc",
   "metadata": {},
   "outputs": [
    {
     "data": {
      "text/plain": [
       "Unknown                               306\n",
       "Música y baile                        160\n",
       "Películas, Animación                   61\n",
       "Música y baile, Películas              41\n",
       "Vlogs diarios                          37\n",
       "Noticias y Política                    36\n",
       "Películas, Humor                       34\n",
       "Animación, Videojuegos                 34\n",
       "Animación, Juguetes                    29\n",
       "Animación, Humor                       27\n",
       "Películas                              24\n",
       "Educación                              24\n",
       "Animación                              22\n",
       "Videojuegos                            19\n",
       "Videojuegos, Humor                     17\n",
       "Música y baile, Animación              16\n",
       "Ciencia y tecnología                   14\n",
       "Comida y bebida                        12\n",
       "Humor                                  10\n",
       "Juguetes                               10\n",
       "Películas, Juguetes                     9\n",
       "Películas, Videojuegos                  8\n",
       "Deportes                                8\n",
       "Música y baile, Humor                   6\n",
       "Juguetes, Coches y vehículos            4\n",
       "DIY y Life Hacks                        3\n",
       "Fitness, Salud y autoayuda              3\n",
       "Videojuegos, Juguetes                   3\n",
       "Animales y mascotas                     2\n",
       "Moda                                    2\n",
       "Coches y vehículos                      2\n",
       "Educación, Juguetes                     2\n",
       "Fitness                                 2\n",
       "Comida y bebida, Juguetes               1\n",
       "ASMR, Comida y bebida                   1\n",
       "Animación, Humor, Juguetes              1\n",
       "Diseño/arte, Belleza                    1\n",
       "Belleza, Moda                           1\n",
       "ASMR                                    1\n",
       "Música y baile, Juguetes                1\n",
       "Diseño/arte, DIY y Life Hacks           1\n",
       "DIY y Life Hacks, Juguetes              1\n",
       "Diseño/arte                             1\n",
       "Comida y bebida, Salud y autoayuda      1\n",
       "Viajes, Espectáculos                    1\n",
       "Juguetes, DIY y Life Hacks              1\n",
       "Name: Categories, dtype: int64"
      ]
     },
     "metadata": {},
     "output_type": "display_data"
    }
   ],
   "source": [
    "category_dist=yutube['Categories'].value_counts()\n",
    "display(category_dist)"
   ]
  },
  {
   "cell_type": "markdown",
   "id": "5bd25acc",
   "metadata": {},
   "source": [
    "# Kmeans clustering to check high performance"
   ]
  },
  {
   "cell_type": "code",
   "execution_count": 216,
   "id": "a2c2ed28",
   "metadata": {},
   "outputs": [],
   "source": [
    "#This ensures that the values have a mean of 0 and standard deviation of 1\n",
    "scaler = StandardScaler()\n",
    "scaled_metrics = scaler.fit_transform(yutube[['Subscribers', 'Visits', 'Likes', 'Comments']])\n",
    "kmeans = KMeans(n_clusters=5)\n",
    "yutube['cluster'] = kmeans.fit_predict(scaled_metrics)"
   ]
  },
  {
   "cell_type": "code",
   "execution_count": 217,
   "id": "4909312d",
   "metadata": {},
   "outputs": [],
   "source": [
    "# Identifying top-performing content creators\n",
    "top_performers = yutube[yutube['cluster'] == 1]"
   ]
  },
  {
   "cell_type": "code",
   "execution_count": 218,
   "id": "8ba2379e",
   "metadata": {},
   "outputs": [
    {
     "data": {
      "text/html": [
       "<div>\n",
       "<style scoped>\n",
       "    .dataframe tbody tr th:only-of-type {\n",
       "        vertical-align: middle;\n",
       "    }\n",
       "\n",
       "    .dataframe tbody tr th {\n",
       "        vertical-align: top;\n",
       "    }\n",
       "\n",
       "    .dataframe thead th {\n",
       "        text-align: right;\n",
       "    }\n",
       "</style>\n",
       "<table border=\"1\" class=\"dataframe\">\n",
       "  <thead>\n",
       "    <tr style=\"text-align: right;\">\n",
       "      <th></th>\n",
       "      <th>Rank</th>\n",
       "      <th>Username</th>\n",
       "      <th>Categories</th>\n",
       "      <th>Subscribers</th>\n",
       "      <th>Country</th>\n",
       "      <th>Visits</th>\n",
       "      <th>Likes</th>\n",
       "      <th>Comments</th>\n",
       "      <th>Links</th>\n",
       "      <th>cluster</th>\n",
       "    </tr>\n",
       "  </thead>\n",
       "  <tbody>\n",
       "    <tr>\n",
       "      <th>1</th>\n",
       "      <td>2</td>\n",
       "      <td>MrBeast</td>\n",
       "      <td>Videojuegos, Humor</td>\n",
       "      <td>183500000</td>\n",
       "      <td>Estados Unidos</td>\n",
       "      <td>117400000.0</td>\n",
       "      <td>5300000.0</td>\n",
       "      <td>18500.0</td>\n",
       "      <td>http://youtube.com/channel/UCX6OQ3DkcsbYNE6H8u...</td>\n",
       "      <td>1</td>\n",
       "    </tr>\n",
       "    <tr>\n",
       "      <th>136</th>\n",
       "      <td>137</td>\n",
       "      <td>MrBeast2</td>\n",
       "      <td>Vlogs diarios</td>\n",
       "      <td>31300000</td>\n",
       "      <td>Estados Unidos</td>\n",
       "      <td>83100000.0</td>\n",
       "      <td>5000000.0</td>\n",
       "      <td>11600.0</td>\n",
       "      <td>http://youtube.com/channel/UC4-79UOlP48-QNGgCk...</td>\n",
       "      <td>1</td>\n",
       "    </tr>\n",
       "  </tbody>\n",
       "</table>\n",
       "</div>"
      ],
      "text/plain": [
       "     Rank  Username          Categories  Subscribers         Country  \\\n",
       "1       2   MrBeast  Videojuegos, Humor    183500000  Estados Unidos   \n",
       "136   137  MrBeast2       Vlogs diarios     31300000  Estados Unidos   \n",
       "\n",
       "          Visits      Likes  Comments  \\\n",
       "1    117400000.0  5300000.0   18500.0   \n",
       "136   83100000.0  5000000.0   11600.0   \n",
       "\n",
       "                                                 Links  cluster  \n",
       "1    http://youtube.com/channel/UCX6OQ3DkcsbYNE6H8u...        1  \n",
       "136  http://youtube.com/channel/UC4-79UOlP48-QNGgCk...        1  "
      ]
     },
     "execution_count": 218,
     "metadata": {},
     "output_type": "execute_result"
    }
   ],
   "source": [
    "top_performers"
   ]
  },
  {
   "cell_type": "code",
   "execution_count": 225,
   "id": "19ef4712",
   "metadata": {},
   "outputs": [
    {
     "data": {
      "text/html": [
       "<div>\n",
       "<style scoped>\n",
       "    .dataframe tbody tr th:only-of-type {\n",
       "        vertical-align: middle;\n",
       "    }\n",
       "\n",
       "    .dataframe tbody tr th {\n",
       "        vertical-align: top;\n",
       "    }\n",
       "\n",
       "    .dataframe thead th {\n",
       "        text-align: right;\n",
       "    }\n",
       "</style>\n",
       "<table border=\"1\" class=\"dataframe\">\n",
       "  <thead>\n",
       "    <tr style=\"text-align: right;\">\n",
       "      <th></th>\n",
       "      <th>Subscribers</th>\n",
       "      <th>Visits</th>\n",
       "      <th>Likes</th>\n",
       "      <th>Comments</th>\n",
       "    </tr>\n",
       "  </thead>\n",
       "  <tbody>\n",
       "    <tr>\n",
       "      <th>Subscribers</th>\n",
       "      <td>1.000000</td>\n",
       "      <td>0.245203</td>\n",
       "      <td>0.211639</td>\n",
       "      <td>0.036350</td>\n",
       "    </tr>\n",
       "    <tr>\n",
       "      <th>Visits</th>\n",
       "      <td>0.245203</td>\n",
       "      <td>1.000000</td>\n",
       "      <td>0.950470</td>\n",
       "      <td>0.324067</td>\n",
       "    </tr>\n",
       "    <tr>\n",
       "      <th>Likes</th>\n",
       "      <td>0.211639</td>\n",
       "      <td>0.950470</td>\n",
       "      <td>1.000000</td>\n",
       "      <td>0.325911</td>\n",
       "    </tr>\n",
       "    <tr>\n",
       "      <th>Comments</th>\n",
       "      <td>0.036350</td>\n",
       "      <td>0.324067</td>\n",
       "      <td>0.325911</td>\n",
       "      <td>1.000000</td>\n",
       "    </tr>\n",
       "  </tbody>\n",
       "</table>\n",
       "</div>"
      ],
      "text/plain": [
       "             Subscribers    Visits     Likes  Comments\n",
       "Subscribers     1.000000  0.245203  0.211639  0.036350\n",
       "Visits          0.245203  1.000000  0.950470  0.324067\n",
       "Likes           0.211639  0.950470  1.000000  0.325911\n",
       "Comments        0.036350  0.324067  0.325911  1.000000"
      ]
     },
     "execution_count": 225,
     "metadata": {},
     "output_type": "execute_result"
    }
   ],
   "source": [
    "yutube_corr=yutube[['Subscribers', 'Visits', 'Likes', 'Comments']].corr()\n",
    "yutube_corr"
   ]
  },
  {
   "cell_type": "code",
   "execution_count": 226,
   "id": "e234c819",
   "metadata": {},
   "outputs": [
    {
     "data": {
      "text/plain": [
       "<AxesSubplot:>"
      ]
     },
     "execution_count": 226,
     "metadata": {},
     "output_type": "execute_result"
    },
    {
     "data": {
      "image/png": "[encoded data removed]",
      "text/plain": [
       "<Figure size 432x288 with 2 Axes>"
      ]
     },
     "metadata": {
      "needs_background": "light"
     },
     "output_type": "display_data"
    }
   ],
   "source": [
    "sns.heatmap(yutube_corr)"
   ]
  },
  {
   "cell_type": "code",
   "execution_count": 229,
   "id": "9774671d",
   "metadata": {},
   "outputs": [
    {
     "data": {
      "text/plain": [
       "Unknown                                True\n",
       "Música y baile                         True\n",
       "Películas, Animación                   True\n",
       "Música y baile, Películas              True\n",
       "Vlogs diarios                          True\n",
       "Noticias y Política                    True\n",
       "Películas, Humor                      False\n",
       "Animación, Videojuegos                False\n",
       "Animación, Juguetes                   False\n",
       "Animación, Humor                      False\n",
       "Películas                             False\n",
       "Educación                             False\n",
       "Animación                             False\n",
       "Videojuegos                           False\n",
       "Videojuegos, Humor                    False\n",
       "Música y baile, Animación             False\n",
       "Ciencia y tecnología                  False\n",
       "Comida y bebida                       False\n",
       "Humor                                 False\n",
       "Juguetes                              False\n",
       "Películas, Juguetes                   False\n",
       "Películas, Videojuegos                False\n",
       "Deportes                              False\n",
       "Música y baile, Humor                 False\n",
       "Juguetes, Coches y vehículos          False\n",
       "DIY y Life Hacks                      False\n",
       "Fitness, Salud y autoayuda            False\n",
       "Videojuegos, Juguetes                 False\n",
       "Animales y mascotas                   False\n",
       "Moda                                  False\n",
       "Coches y vehículos                    False\n",
       "Educación, Juguetes                   False\n",
       "Fitness                               False\n",
       "Comida y bebida, Juguetes             False\n",
       "ASMR, Comida y bebida                 False\n",
       "Animación, Humor, Juguetes            False\n",
       "Diseño/arte, Belleza                  False\n",
       "Belleza, Moda                         False\n",
       "ASMR                                  False\n",
       "Música y baile, Juguetes              False\n",
       "Diseño/arte, DIY y Life Hacks         False\n",
       "DIY y Life Hacks, Juguetes            False\n",
       "Diseño/arte                           False\n",
       "Comida y bebida, Salud y autoayuda    False\n",
       "Viajes, Espectáculos                  False\n",
       "Juguetes, DIY y Life Hacks            False\n",
       "Name: Categories, dtype: bool"
      ]
     },
     "execution_count": 229,
     "metadata": {},
     "output_type": "execute_result"
    }
   ],
   "source": [
    "top_categories=category_dist>=36\n",
    "top_categories"
   ]
  },
  {
   "cell_type": "code",
   "execution_count": 230,
   "id": "0af99695",
   "metadata": {},
   "outputs": [
    {
     "data": {
      "text/plain": [
       "<pandas.core.groupby.generic.SeriesGroupBy object at 0x0000027F09FB90A0>"
      ]
     },
     "execution_count": 230,
     "metadata": {},
     "output_type": "execute_result"
    }
   ],
   "source": [
    "s=yutube.groupby('Country')['Subscribers']\n",
    "s"
   ]
  },
  {
   "cell_type": "code",
   "execution_count": null,
   "id": "1794cc5a",
   "metadata": {},
   "outputs": [],
   "source": []
  }
 ],
 "metadata": {
  "kernelspec": {
   "display_name": "Python 3 (ipykernel)",
   "language": "python",
   "name": "python3"
  },
  "language_info": {
   "codemirror_mode": {
    "name": "ipython",
    "version": 3
   },
   "file_extension": ".py",
   "mimetype": "text/x-python",
   "name": "python",
   "nbconvert_exporter": "python",
   "pygments_lexer": "ipython3",
   "version": "3.9.12"
  }
 },
 "nbformat": 4,
 "nbformat_minor": 5
}
